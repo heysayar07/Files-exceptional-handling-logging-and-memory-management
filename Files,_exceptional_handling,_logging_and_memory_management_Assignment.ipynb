{
  "nbformat": 4,
  "nbformat_minor": 0,
  "metadata": {
    "colab": {
      "provenance": []
    },
    "kernelspec": {
      "name": "python3",
      "display_name": "Python 3"
    },
    "language_info": {
      "name": "python"
    }
  },
  "cells": [
    {
      "cell_type": "markdown",
      "source": [
        "1. What is the difference between interpreted and compiled languages?\n",
        "\n",
        "Interpreted languages (like Python) execute code line-by-line, which makes debugging easier but can be slower.\n",
        "Compiled languages (like C++) translate the entire code into machine code before running, which is faster but harder to debug."
      ],
      "metadata": {
        "id": "YxSBZDZO38si"
      }
    },
    {
      "cell_type": "markdown",
      "source": [
        "2. What is exception handling in Python?\n",
        "\n",
        "Exception handling is a way to handle runtime errors so the program doesn’t crash.\n",
        "It uses try-except blocks to catch and handle errors gracefully."
      ],
      "metadata": {
        "id": "ebM7lw0l4Gyg"
      }
    },
    {
      "cell_type": "markdown",
      "source": [
        "3. What is the purpose of the finally block in exception handling?\n",
        "\n",
        "The finally block always executes, no matter if an error occurred or not.\n",
        "It's usually used for cleanup, like closing files or releasing resources."
      ],
      "metadata": {
        "id": "ZprQAQA64MRk"
      }
    },
    {
      "cell_type": "markdown",
      "source": [
        "4. What is logging in Python?\n",
        "\n",
        "Logging is a way to track events that happen during the execution of a program.\n",
        "It's helpful for debugging and understanding code flow."
      ],
      "metadata": {
        "id": "wPD8t-D34T6Y"
      }
    },
    {
      "cell_type": "markdown",
      "source": [
        "5. What is the significance of the __del__ method in Python?\n",
        "\n",
        "The __del__ method is a destructor. It's called when an object is about to be destroyed, so you can use it to clean up resources like open files or network connections.\n"
      ],
      "metadata": {
        "id": "MmKyM49z4dXY"
      }
    },
    {
      "cell_type": "markdown",
      "source": [
        "6. What is the difference between import and from ... import in Python?\n",
        "\n",
        "- import module: You access functions with module.name\n",
        "- from module import name: You access name directly without module prefix"
      ],
      "metadata": {
        "id": "LWZ_G3NR4maO"
      }
    },
    {
      "cell_type": "markdown",
      "source": [
        "7. How can you handle multiple exceptions in Python?\n",
        "\n",
        "* Using Multiple except Blocks\n",
        "*Using a Single except Block with a Tuple\n",
        "* Using a Generic Exception Class\n",
        "\n",
        "\n"
      ],
      "metadata": {
        "id": "KqntHTTr4vgv"
      }
    },
    {
      "cell_type": "markdown",
      "source": [
        "8. What is the purpose of the with statement when handling files in Python?\n",
        "\n",
        "The with statement automatically closes the file after the block is done,\n",
        "even if an exception occurs.\n"
      ],
      "metadata": {
        "id": "_ATH719g5k1m"
      }
    },
    {
      "cell_type": "markdown",
      "source": [
        "9. What is the difference between multithreading and multiprocessing?\n",
        "\n",
        "*  Multithreading: Runs threads in the same memory space (faster communication, but shared memory)\n",
        "* Multiprocessing: Runs in separate memory spaces (more isolated and suitable for CPU-heavy tasks)"
      ],
      "metadata": {
        "id": "gNJ1k4tO5qbI"
      }
    },
    {
      "cell_type": "markdown",
      "source": [
        "10. What are the advantages of using logging in a program?\n",
        "\n",
        "- Easier debugging\n",
        "- Keeps track of events and errors\n",
        "- Helps in auditing and monitoring programs"
      ],
      "metadata": {
        "id": "7e0mFCr456kx"
      }
    },
    {
      "cell_type": "markdown",
      "source": [
        "11. What is memory management in Python?\n",
        "\n",
        "Memory management is how Python handles allocating and freeing memory using reference counting and garbage collection."
      ],
      "metadata": {
        "id": "B2OxZoSv5_ce"
      }
    },
    {
      "cell_type": "markdown",
      "source": [
        " 12. What are the basic steps involved in exception handling in Python?\n",
        "\n",
        "1. try: Block where you write risky code\n",
        "2. except: Block to handle exceptions\n",
        "3. else: Optional block if no exception occurs\n",
        "4. finally: Executes no matter what"
      ],
      "metadata": {
        "id": "zfCeH1ui6ENm"
      }
    },
    {
      "cell_type": "markdown",
      "source": [
        "13. Why is memory management important in Python?\n",
        "\n",
        "It helps avoid memory leaks and keeps programs efficient and fast."
      ],
      "metadata": {
        "id": "2S2uSoNV6l4k"
      }
    },
    {
      "cell_type": "markdown",
      "source": [
        "14. What is the role of try and except in exception handling?\n",
        "\n",
        "They help catch and handle errors without crashing the program.\n"
      ],
      "metadata": {
        "id": "G_P268Wi6ruy"
      }
    },
    {
      "cell_type": "markdown",
      "source": [],
      "metadata": {
        "id": "9u7v6uzC5yx1"
      }
    },
    {
      "cell_type": "markdown",
      "source": [
        "15. How does Python's garbage collection system work?\n",
        "\n",
        "Python uses reference counting and a cyclic garbage collector to free memory occupied by objects no longer in use.\n"
      ],
      "metadata": {
        "id": "y03RH-r06w0O"
      }
    },
    {
      "cell_type": "markdown",
      "source": [
        "16. What is the purpose of the else block in exception handling?\n",
        "\n",
        "The else block runs only if no exceptions were raised in the try block.\n"
      ],
      "metadata": {
        "id": "lSY6I9Pr60_J"
      }
    },
    {
      "cell_type": "markdown",
      "source": [
        "17. What are the common logging levels in Python?\n",
        "\n",
        " * DEBUG\n",
        " * INFO\n",
        "  * WARNING\n",
        "  * ERROR\n",
        "  * CRITICAL\n"
      ],
      "metadata": {
        "id": "DUP4ZiTq65Ns"
      }
    },
    {
      "cell_type": "markdown",
      "source": [
        "18. What is the difference between os.fork() and multiprocessing in Python?\n",
        "\n",
        "- os.fork() is Unix-only and lower level.\n",
        "- multiprocessing is cross-platform and easier to use."
      ],
      "metadata": {
        "id": "4qWIKv6Q7Tfb"
      }
    },
    {
      "cell_type": "markdown",
      "source": [
        "19. What is the importance of closing a file in Python?\n",
        "\n",
        "To free up system resources and avoid file corruption.\n"
      ],
      "metadata": {
        "id": "BXmiDWub7aQY"
      }
    },
    {
      "cell_type": "markdown",
      "source": [
        "20. What is the difference between file.read() and file.readline() in Python?\n",
        "\n",
        "- file.read(): Reads the whole file\n",
        "- file.readline(): Reads one line at a time"
      ],
      "metadata": {
        "id": "r-gF_fAz7hHn"
      }
    },
    {
      "cell_type": "markdown",
      "source": [
        "21. What is the logging module in Python used for?\n",
        "\n",
        "It’s used to track events and errors during a program’s execution.\n"
      ],
      "metadata": {
        "id": "XvlWlRlK7pBs"
      }
    },
    {
      "cell_type": "markdown",
      "source": [
        "22. What is the os module in Python used for in file handling?\n",
        "\n",
        "It allows interaction with the operating system: file paths, checking file existence, etc.\n"
      ],
      "metadata": {
        "id": "stjlM9QK74DW"
      }
    },
    {
      "cell_type": "markdown",
      "source": [
        " 23. What are the challenges associated with memory management in Python?\n",
        "\n",
        "- Cyclic references\n",
        "- Large data structures consuming a lot of memory\n",
        "- Unexpected memory retention (memory leaks)"
      ],
      "metadata": {
        "id": "0IrLCUTZ78OV"
      }
    },
    {
      "cell_type": "markdown",
      "source": [
        "24. How do you raise an exception manually in Python?\n",
        "\n",
        "Use the raise keyword:\n",
        "raise ValueError(\"Invalid input\")"
      ],
      "metadata": {
        "id": "0Ke61iM88Aiv"
      }
    },
    {
      "cell_type": "markdown",
      "source": [
        "25. Why is it important to use multithreading in certain applications?\n",
        "\n",
        "To perform multiple I/O-bound tasks (like downloading files) simultaneously, improving performance.\n"
      ],
      "metadata": {
        "id": "8Rm_KKep8E5D"
      }
    },
    {
      "cell_type": "markdown",
      "source": [
        "**Practical Questions\n",
        "**"
      ],
      "metadata": {
        "id": "zqQ3RIrS8JNh"
      }
    },
    {
      "cell_type": "code",
      "source": [
        "#1.  How can you open a file for writing in Python and write a string to it ?\n",
        "\n",
        "# Open the file in write mode ('w')\n",
        "with open('example.txt', 'w') as file:\n",
        "    # Write a string to the file\n",
        "    file.write('Hello, this is a test string!')\n"
      ],
      "metadata": {
        "id": "Sg8LGd6p8QQB"
      },
      "execution_count": null,
      "outputs": []
    },
    {
      "cell_type": "code",
      "source": [
        "#2.  Write a Python program to read the contents of a file and print each line\n",
        "\n",
        "# Open the file in read mode ('r')\n",
        "with open('example.txt', 'r') as file:\n",
        "    # Read each line in the file and print it\n",
        "    for line in file:\n",
        "        print(line, end='')  # The 'end' parameter avoids adding extra newlines\n"
      ],
      "metadata": {
        "colab": {
          "base_uri": "https://localhost:8080/"
        },
        "id": "wY5p3y7B8upi",
        "outputId": "7c1063ab-de15-4cbc-af69-56e4e4e7db66"
      },
      "execution_count": null,
      "outputs": [
        {
          "output_type": "stream",
          "name": "stdout",
          "text": [
            "Hello, this is a test string!"
          ]
        }
      ]
    },
    {
      "cell_type": "code",
      "source": [
        "#3.  How would you handle a case where the file doesn't exist while trying to open it for reading\n",
        "\n",
        "try:\n",
        "    # Attempt to open the file in read mode ('r')\n",
        "    with open('example.txt', 'r') as file:\n",
        "        # Read and print each line from the file\n",
        "        for line in file:\n",
        "            print(line, end='')\n",
        "\n",
        "except FileNotFoundError:\n",
        "    # Handle the case where the file doesn't exist\n",
        "    print(\"The file 'example.txt' does not exist.\")\n"
      ],
      "metadata": {
        "colab": {
          "base_uri": "https://localhost:8080/"
        },
        "id": "CHvpXSqW85e9",
        "outputId": "58d18369-99b7-4887-b821-b7cdb9920017"
      },
      "execution_count": null,
      "outputs": [
        {
          "output_type": "stream",
          "name": "stdout",
          "text": [
            "Hello, this is a test string!"
          ]
        }
      ]
    },
    {
      "cell_type": "code",
      "source": [
        "#4.  Write a Python script that reads from one file and writes its content to another file\n",
        "\n",
        "try:\n",
        "    # Open the source file in read mode ('r') and the destination file in write mode ('w')\n",
        "    with open('source.txt', 'r') as source_file, open('destination.txt', 'w') as destination_file:\n",
        "        # Read the contents of the source file and write them to the destination file\n",
        "        for line in source_file:\n",
        "            destination_file.write(line)\n",
        "\n",
        "    print(\"Content has been successfully copied from source.txt to destination.txt.\")\n",
        "\n",
        "except FileNotFoundError:\n",
        "    print(\"The source file does not exist.\")\n",
        "except Exception as e:\n",
        "    print(f\"An error occurred: {e}\")\n"
      ],
      "metadata": {
        "colab": {
          "base_uri": "https://localhost:8080/"
        },
        "id": "0qcD98TJ9GGQ",
        "outputId": "ebfb5cb8-3be6-4a1c-a563-f1432f68f8c5"
      },
      "execution_count": null,
      "outputs": [
        {
          "output_type": "stream",
          "name": "stdout",
          "text": [
            "The source file does not exist.\n"
          ]
        }
      ]
    },
    {
      "cell_type": "code",
      "source": [
        "#5.How would you catch and handle division by zero error in Python\n",
        "try:\n",
        "    numerator = 10\n",
        "    denominator = 0\n",
        "    result = numerator / denominator\n",
        "    print(\"Result:\", result)\n",
        "except ZeroDivisionError:\n",
        "    print(\"Error: Cannot divide by zero!\")\n"
      ],
      "metadata": {
        "id": "nX_Marg39OQp",
        "colab": {
          "base_uri": "https://localhost:8080/"
        },
        "outputId": "b4e18220-3e92-4a6b-cb46-393f3562dc2e"
      },
      "execution_count": null,
      "outputs": [
        {
          "output_type": "stream",
          "name": "stdout",
          "text": [
            "Error: Cannot divide by zero!\n"
          ]
        }
      ]
    },
    {
      "cell_type": "code",
      "source": [
        "#6. Write a Python program that logs an error message to a log file when a division by zero exception occurs\n",
        "\n",
        "import logging\n",
        "\n",
        "# Configure logging\n",
        "logging.basicConfig(\n",
        "    filename='error.log',\n",
        "    level=logging.ERROR,\n",
        "    format='%(asctime)s - %(levelname)s - %(message)s'\n",
        ")\n",
        "\n",
        "def divide(a, b):\n",
        "    try:\n",
        "        return a / b\n",
        "    except ZeroDivisionError as e:\n",
        "        logging.error(\"Attempted to divide by zero: %s\", e)\n",
        "        print(\"Error: Cannot divide by zero. Check error.log for details.\")\n",
        "\n",
        "# Example usage\n",
        "numerator = 10\n",
        "denominator = 0\n",
        "\n",
        "divide(numerator, denominator)\n"
      ],
      "metadata": {
        "colab": {
          "base_uri": "https://localhost:8080/"
        },
        "id": "PP_K2NsotKC-",
        "outputId": "568406d5-b4c7-4f59-9563-121328081623"
      },
      "execution_count": null,
      "outputs": [
        {
          "output_type": "stream",
          "name": "stderr",
          "text": [
            "ERROR:root:Attempted to divide by zero: division by zero\n"
          ]
        },
        {
          "output_type": "stream",
          "name": "stdout",
          "text": [
            "Error: Cannot divide by zero. Check error.log for details.\n"
          ]
        }
      ]
    },
    {
      "cell_type": "code",
      "source": [
        "#7. How do you log information at different levels (INFO, ERROR, WARNING) in Python using the logging module\n",
        "\n",
        "import logging\n",
        "\n",
        "# Configure logging\n",
        "logging.basicConfig(\n",
        "    filename='app.log',  # log file name\n",
        "    level=logging.DEBUG,  # minimum level to capture\n",
        "    format='%(asctime)s - %(levelname)s - %(message)s'\n",
        ")\n",
        "\n",
        "# Logging at different levels\n",
        "logging.debug(\"This is a DEBUG message\")\n",
        "logging.info(\"This is an INFO message\")\n",
        "logging.warning(\"This is a WARNING message\")\n",
        "logging.error(\"This is an ERROR message\")\n",
        "logging.critical(\"This is a CRITICAL message\")\n"
      ],
      "metadata": {
        "colab": {
          "base_uri": "https://localhost:8080/"
        },
        "id": "-_gTHw9ute5a",
        "outputId": "6cf98104-7c47-4bf6-dbdc-c3d8d59dc3ba"
      },
      "execution_count": null,
      "outputs": [
        {
          "output_type": "stream",
          "name": "stderr",
          "text": [
            "WARNING:root:This is a WARNING message\n",
            "ERROR:root:This is an ERROR message\n",
            "CRITICAL:root:This is a CRITICAL message\n"
          ]
        }
      ]
    },
    {
      "cell_type": "code",
      "source": [
        "#8. Write a program to handle a file opening error using exception handling\n",
        "\n",
        "try:\n",
        "    file = open(\"myfile.txt\", \"r\")\n",
        "    content = file.read()\n",
        "    print(content)\n",
        "    file.close()\n",
        "except FileNotFoundError as e:\n",
        "    print(\"Error: The file was not found.\")\n",
        "    print(\"Exception details:\", e)\n"
      ],
      "metadata": {
        "colab": {
          "base_uri": "https://localhost:8080/"
        },
        "id": "C925VV7Yt40O",
        "outputId": "d2920c15-451e-4dcf-86a0-391fcc84a07b"
      },
      "execution_count": null,
      "outputs": [
        {
          "output_type": "stream",
          "name": "stdout",
          "text": [
            "Error: The file was not found.\n",
            "Exception details: [Errno 2] No such file or directory: 'myfile.txt'\n"
          ]
        }
      ]
    },
    {
      "cell_type": "code",
      "source": [
        "#9. How can you read a file line by line and store its content in a list in Python.\n",
        "\n",
        "#Method 1: Using .readline()\n",
        "with open(\"myfile.txt\", \"r\") as file:\n",
        "    lines = []\n",
        "    line = file.readline()\n",
        "    while line:\n",
        "        lines.append(line)\n",
        "        line = file.readline()\n",
        "\n",
        "print(lines)\n",
        "\n",
        "#Method 2: Using a loop\n",
        "\n",
        "lines = []\n",
        "with open(\"myfile.txt\", \"r\") as file:\n",
        "    for line in file:\n",
        "        lines.append(line)\n",
        "\n",
        "print(lines)\n",
        "\n"
      ],
      "metadata": {
        "id": "TmeDkNNa_aGO"
      },
      "execution_count": null,
      "outputs": []
    },
    {
      "cell_type": "code",
      "source": [
        "#10. How can you append data to an existing file in Python?\n",
        "\n",
        "# Open the file in append mode ('a')\n",
        "with open('my_file.txt', 'a') as file:\n",
        "    # Write or append data to the file\n",
        "    file.write('This is new data to append.\\n')\n"
      ],
      "metadata": {
        "id": "onNhhjsZFAYU"
      },
      "execution_count": 4,
      "outputs": []
    },
    {
      "cell_type": "code",
      "source": [
        "#11. Write a Python program that uses a try-except block to handle an error when attempting to access a dictionary key that doesn't exist.\n",
        "def access_dictionary_key(dictionary, key):\n",
        "    \"\"\"\n",
        "    Tries to access a dictionary key and handles KeyError if it doesn't exist.\n",
        "\n",
        "    Args:\n",
        "        dictionary (dict): The dictionary to access.\n",
        "        key: The key to look up.\n",
        "\n",
        "    Returns:\n",
        "        The value associated with the key, or a message if the key is not found.\n",
        "    \"\"\"\n",
        "    try:\n",
        "        value = dictionary[key]  # Try to access the key\n",
        "        return value\n",
        "    except KeyError:\n",
        "        return f\"Error: Key '{key}' not found in the dictionary.\"\n",
        "\n",
        "# Example usage\n",
        "my_dict = {\"a\": 1, \"b\": 2, \"c\": 3}\n",
        "\n",
        "# Access an existing key\n",
        "result1 = access_dictionary_key(my_dict, \"b\")\n",
        "print(result1)  # Output: 2\n",
        "\n",
        "# Access a non-existent key\n",
        "result2 = access_dictionary_key(my_dict, \"d\")\n",
        "print(result2)  # Output: Error: Key 'd' not found in the dictionary."
      ],
      "metadata": {
        "colab": {
          "base_uri": "https://localhost:8080/"
        },
        "id": "VHxvdC4CBuID",
        "outputId": "bb23d453-9516-4464-c085-52837af528b2"
      },
      "execution_count": 5,
      "outputs": [
        {
          "output_type": "stream",
          "name": "stdout",
          "text": [
            "2\n",
            "Error: Key 'd' not found in the dictionary.\n"
          ]
        }
      ]
    },
    {
      "cell_type": "code",
      "source": [
        "#12. Write a program that demonstrates using multiple except blocks to handle different types of exceptions\n",
        "try:\n",
        "    num1 = int(input(\"Enter numerator: \"))\n",
        "    num2 = int(input(\"Enter denominator: \"))\n",
        "    result = num1 / num2\n",
        "    print(\"Result:\", result)\n",
        "\n",
        "    # Accessing an undefined variable (just for demonstration)\n",
        "    print(unknown_var)\n",
        "\n",
        "except ZeroDivisionError:\n",
        "    print(\"Error: Cannot divide by zero.\")\n",
        "\n",
        "except ValueError:\n",
        "    print(\"Error: Invalid input. Please enter numeric values only.\")\n",
        "\n",
        "except NameError:\n",
        "    print(\"Error: You tried to use a variable that doesn't exist.\")\n",
        "\n",
        "except Exception as e:\n",
        "    print(\"An unexpected error occurred:\", e)\n"
      ],
      "metadata": {
        "colab": {
          "base_uri": "https://localhost:8080/"
        },
        "id": "hbIacn8uB-bi",
        "outputId": "ca667172-6656-4dd0-c511-3910eb823c19"
      },
      "execution_count": 6,
      "outputs": [
        {
          "output_type": "stream",
          "name": "stdout",
          "text": [
            "Enter numerator: 5\n",
            "Enter denominator: 8\n",
            "Result: 0.625\n",
            "Error: You tried to use a variable that doesn't exist.\n"
          ]
        }
      ]
    },
    {
      "cell_type": "code",
      "source": [
        "#13.  How would you check if a file exists before attempting to read it in Python\n",
        "\n",
        "#Method 1: Using os.path.exists()\n",
        "\n",
        "import os\n",
        "\n",
        "file_path = \"myfile.txt\"\n",
        "\n",
        "if os.path.exists(file_path):\n",
        "    with open(file_path, \"r\") as file:\n",
        "        content = file.read()\n",
        "        print(content)\n",
        "else:\n",
        "    print(\"File does not exist.\")\n",
        "\n",
        "#Method 2: Using pathlib.Path.exists()\n",
        "\n",
        "from pathlib import Path\n",
        "\n",
        "file_path = Path(\"myfile.txt\")\n",
        "\n",
        "if file_path.exists():\n",
        "    with file_path.open(\"r\") as file:\n",
        "        content = file.read()\n",
        "        print(content)\n",
        "else:\n",
        "    print(\"File does not exist.\")\n",
        "\n"
      ],
      "metadata": {
        "colab": {
          "base_uri": "https://localhost:8080/"
        },
        "id": "Qa3GV7DaCN85",
        "outputId": "34ff8318-7e8b-4381-b94b-88ba32be5959"
      },
      "execution_count": 8,
      "outputs": [
        {
          "output_type": "stream",
          "name": "stdout",
          "text": [
            "File does not exist.\n",
            "File does not exist.\n"
          ]
        }
      ]
    },
    {
      "cell_type": "code",
      "source": [
        "#14. Write a program that uses the logging module to log both informational and error messages\n",
        "\n",
        "import logging\n",
        "\n",
        "# Configure logging\n",
        "logging.basicConfig(\n",
        "    filename='app.log',             # Log file name\n",
        "    level=logging.DEBUG,            # Minimum level to capture\n",
        "    format='%(asctime)s - %(levelname)s - %(message)s'\n",
        ")\n",
        "\n",
        "def divide(a, b):\n",
        "    logging.info(f\"Trying to divide {a} by {b}\")\n",
        "    try:\n",
        "        result = a / b\n",
        "        logging.info(f\"Result of division: {result}\")\n",
        "        return result\n",
        "    except ZeroDivisionError as e:\n",
        "        logging.error(\"Division by zero error occurred.\")\n",
        "        logging.error(f\"Exception: {e}\")\n",
        "        return None\n",
        "\n",
        "# Example usage\n",
        "divide(10, 2)   # Logs info\n",
        "divide(10, 0)   # Logs error\n"
      ],
      "metadata": {
        "colab": {
          "base_uri": "https://localhost:8080/"
        },
        "id": "H68pmxF9DJpf",
        "outputId": "0348fa67-a650-4c21-c0cf-9783a16f5575"
      },
      "execution_count": 9,
      "outputs": [
        {
          "output_type": "stream",
          "name": "stderr",
          "text": [
            "ERROR:root:Division by zero error occurred.\n",
            "ERROR:root:Exception: division by zero\n"
          ]
        }
      ]
    },
    {
      "cell_type": "code",
      "source": [
        "#15.  Write a Python program that prints the content of a file and handles the case when the file is empty\n",
        "\n",
        "import os\n",
        "\n",
        "file_path = \"myfile.txt\"\n",
        "\n",
        "if os.path.exists(file_path):\n",
        "    with open(file_path, \"r\") as file:\n",
        "        content = file.read()\n",
        "\n",
        "        if content.strip() == \"\":\n",
        "            print(\"The file is empty.\")\n",
        "        else:\n",
        "            print(\"File content:\\n\")\n",
        "            print(content)\n",
        "else:\n",
        "    print(\"The file does not exist.\")\n"
      ],
      "metadata": {
        "id": "6fdPaU9UDjek"
      },
      "execution_count": null,
      "outputs": []
    },
    {
      "cell_type": "code",
      "source": [
        "#16. Demonstrate how to use memory profiling to check the memory usage of a small program\n",
        "\n",
        "#Step 1: Install memory_profiler.\n",
        "# pip install memory_profiler\n",
        "\n",
        "#Step 2: Write a sample program using @profile decorator\n",
        "\n",
        "# Save this as sample_memory.py\n",
        "\n",
        "from memory_profiler import profile\n",
        "\n",
        "@profile\n",
        "def create_list():\n",
        "    # Simulate memory usage\n",
        "    my_list = [i for i in range(1000000)]\n",
        "    return sum(my_list)\n",
        "\n",
        "if __name__ == \"__main__\":\n",
        "    result = create_list()\n",
        "    print(\"Sum:\", result)\n",
        "\n",
        "#Step 3: Run the program with memory profiling\n",
        "python -m memory_profiler sample_memory.py\n",
        "\n",
        "\n"
      ],
      "metadata": {
        "id": "FQWJaA-cDq9a"
      },
      "execution_count": null,
      "outputs": []
    },
    {
      "cell_type": "code",
      "source": [
        "#17. Write a Python program to create and write a list of numbers to a file, one number per line\n",
        "\n",
        "# List of numbers\n",
        "numbers = [10, 20, 30, 40, 50]\n",
        "\n",
        "# File to write to\n",
        "file_name = \"numbers.txt\"\n",
        "\n",
        "try:\n",
        "    with open(file_name, \"w\") as file:\n",
        "        for num in numbers:\n",
        "            file.write(f\"{num}\\n\")\n",
        "    print(f\"Numbers successfully written to {file_name}\")\n",
        "except Exception as e:\n",
        "    print(\"An error occurred while writing to the file:\", e)\n"
      ],
      "metadata": {
        "id": "yvSb8F9WEZxc"
      },
      "execution_count": null,
      "outputs": []
    },
    {
      "cell_type": "code",
      "source": [
        "#18.  How would you implement a basic logging setup that logs to a file with rotation after 1MB\n",
        "\n",
        "import logging\n",
        "from logging.handlers import RotatingFileHandler\n",
        "\n",
        "# Set up a rotating file handler\n",
        "log_file = \"app.log\"\n",
        "handler = RotatingFileHandler(\n",
        "    log_file, maxBytes=1*1024*1024, backupCount=5  # 1MB size, keep 5 backups\n",
        ")\n",
        "\n",
        "# Configure logging\n",
        "logging.basicConfig(\n",
        "    level=logging.INFO,\n",
        "    format='%(asctime)s - %(levelname)s - %(message)s',\n",
        "    handlers=[handler]\n",
        ")\n",
        "\n",
        "# Sample logging to test rotation\n",
        "for i in range(10000):\n",
        "    logging.info(f\"This is log message number {i}\")\n"
      ],
      "metadata": {
        "id": "Mw0Fmlw1EipB"
      },
      "execution_count": 13,
      "outputs": []
    },
    {
      "cell_type": "code",
      "source": [
        "#19. Write a program that handles both IndexError and KeyError using a try-except block\n",
        "\n",
        "# Sample data\n",
        "my_list = [1, 2, 3]\n",
        "my_dict = {\"name\": \"John\", \"age\": 30}\n",
        "\n",
        "try:\n",
        "    # Trying to access an invalid index in the list\n",
        "    print(my_list[5])  # IndexError\n",
        "\n",
        "    # Trying to access a non-existing key in the dictionary\n",
        "    print(my_dict[\"address\"])  # KeyError\n",
        "\n",
        "except IndexError as e:\n",
        "    print(f\"IndexError: {e} - The list index is out of range.\")\n",
        "except KeyError as e:\n",
        "    print(f\"KeyError: {e} - The key does not exist in the dictionary.\")\n"
      ],
      "metadata": {
        "colab": {
          "base_uri": "https://localhost:8080/"
        },
        "id": "WVXiZrzeEs-z",
        "outputId": "8f2b2ef5-f737-424b-a526-ccbe8dcef9e2"
      },
      "execution_count": 14,
      "outputs": [
        {
          "output_type": "stream",
          "name": "stdout",
          "text": [
            "IndexError: list index out of range - The list index is out of range.\n"
          ]
        }
      ]
    },
    {
      "cell_type": "code",
      "source": [
        "#20.  How would you open a file and read its contents using a context manager in Python\n",
        "\n",
        "file_path = \"myfile.txt\"\n",
        "\n",
        "# Using the context manager to open and read the file\n",
        "with open(file_path, \"r\") as file:\n",
        "    content = file.read()  # Read the entire content of the file\n",
        "    print(content)\n",
        "\n"
      ],
      "metadata": {
        "id": "nRwIj-3NFJU7"
      },
      "execution_count": null,
      "outputs": []
    },
    {
      "cell_type": "code",
      "source": [
        "#21.  Write a Python program that reads a file and prints the number of occurrences of a specific word\n",
        "\n",
        "def count_word_in_file(file_path, target_word):\n",
        "    try:\n",
        "        # Open the file using a context manager\n",
        "        with open(file_path, 'r') as file:\n",
        "            content = file.read()  # Read the entire content of the file\n",
        "\n",
        "            # Count the occurrences of the target word (case-insensitive)\n",
        "            word_count = content.lower().split().count(target_word.lower())\n",
        "\n",
        "        return word_count\n",
        "\n",
        "    except FileNotFoundError:\n",
        "        print(f\"Error: The file '{file_path}' was not found.\")\n",
        "        return 0\n",
        "\n",
        "# Example usage\n",
        "file_path = \"myfile.txt\"\n",
        "target_word = \"python\"\n",
        "count = count_word_in_file(file_path, target_word)\n",
        "print(f\"The word '{target_word}' appears {count} times in the file.\")\n"
      ],
      "metadata": {
        "colab": {
          "base_uri": "https://localhost:8080/"
        },
        "id": "_OoG6NkOFTNe",
        "outputId": "26c504dd-430a-4704-d7a3-74a721f35808"
      },
      "execution_count": 16,
      "outputs": [
        {
          "output_type": "stream",
          "name": "stdout",
          "text": [
            "Error: The file 'myfile.txt' was not found.\n",
            "The word 'python' appears 0 times in the file.\n"
          ]
        }
      ]
    },
    {
      "cell_type": "code",
      "source": [
        "#22.  How can you check if a file is empty before attempting to read its contents\n",
        "import os\n",
        "\n",
        "file_path = \"myfile.txt\"\n",
        "\n",
        "# Check if the file exists and is not empty\n",
        "if os.path.exists(file_path) and os.stat(file_path).st_size > 0:\n",
        "    with open(file_path, 'r') as file:\n",
        "        content = file.read()\n",
        "        print(\"File content:\")\n",
        "        print(content)\n",
        "else:\n",
        "    print(\"The file is either empty or does not exist.\")\n"
      ],
      "metadata": {
        "colab": {
          "base_uri": "https://localhost:8080/"
        },
        "id": "yMBZnxw4FbmJ",
        "outputId": "ed0d352b-1eef-413d-dd12-b345b8f696fd"
      },
      "execution_count": 17,
      "outputs": [
        {
          "output_type": "stream",
          "name": "stdout",
          "text": [
            "The file is either empty or does not exist.\n"
          ]
        }
      ]
    },
    {
      "cell_type": "code",
      "source": [
        "#23.  Write a Python program that writes to a log file when an error occurs during file handling.\n",
        "import logging\n",
        "\n",
        "# Configure logging to log error messages to a log file\n",
        "logging.basicConfig(\n",
        "    filename='file_error.log',\n",
        "    level=logging.ERROR,  # Only log error messages\n",
        "    format='%(asctime)s - %(levelname)s - %(message)s'\n",
        ")\n",
        "\n",
        "def read_file(file_path):\n",
        "    try:\n",
        "        with open(file_path, 'r') as file:\n",
        "            content = file.read()\n",
        "            print(content)\n",
        "    except FileNotFoundError as e:\n",
        "        logging.error(f\"File not found: {file_path}. Exception: {e}\")\n",
        "        print(f\"Error: File not found: {file_path}\")\n",
        "    except PermissionError as e:\n",
        "        logging.error(f\"Permission denied: {file_path}. Exception: {e}\")\n",
        "        print(f\"Error: Permission denied: {file_path}\")\n",
        "    except Exception as e:\n",
        "        logging.error(f\"An unexpected error occurred while handling the file {file_path}. Exception: {e}\")\n",
        "        print(f\"An unexpected error occurred: {e}\")\n",
        "\n",
        "# Example usage\n",
        "file_path = \"non_existent_file.txt\"\n",
        "read_file(file_path)\n"
      ],
      "metadata": {
        "colab": {
          "base_uri": "https://localhost:8080/"
        },
        "id": "JgJLWNEaFpZl",
        "outputId": "d7e4c006-ef71-4394-b272-b72eee22c9f2"
      },
      "execution_count": 18,
      "outputs": [
        {
          "output_type": "stream",
          "name": "stderr",
          "text": [
            "ERROR:root:File not found: non_existent_file.txt. Exception: [Errno 2] No such file or directory: 'non_existent_file.txt'\n"
          ]
        },
        {
          "output_type": "stream",
          "name": "stdout",
          "text": [
            "Error: File not found: non_existent_file.txt\n"
          ]
        }
      ]
    }
  ]
}